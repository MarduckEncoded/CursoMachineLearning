{
  "nbformat": 4,
  "nbformat_minor": 0,
  "metadata": {
    "colab": {
      "name": "KNN_classification_version_Profesor.ipynb",
      "provenance": [],
      "include_colab_link": true
    },
    "kernelspec": {
      "name": "python3",
      "display_name": "Python 3"
    }
  },
  "cells": [
    {
      "cell_type": "markdown",
      "metadata": {
        "id": "view-in-github",
        "colab_type": "text"
      },
      "source": [
        "<a href=\"https://colab.research.google.com/github/MarduckEncoded/CursoMachineLearning/blob/master/Codigo/KNN_classification_version_Profesor.ipynb\" target=\"_parent\"><img src=\"https://colab.research.google.com/assets/colab-badge.svg\" alt=\"Open In Colab\"/></a>"
      ]
    },
    {
      "cell_type": "markdown",
      "metadata": {
        "id": "yzDB_jE_Ihkx"
      },
      "source": [
        "# Ejemplo De KNN\n",
        "\n",
        "Basado en el ejemplo en:\n",
        " https://github.com/jbagnato/machine-learning/blob/master/Ejercicio_k-NearestNeighbor.ipynb\n",
        "\n",
        "los datos los encuentran en:\n",
        " https://github.com/jbagnato/machine-learning/blob/master/reviews_sentiment.csv"
      ]
    },
    {
      "cell_type": "code",
      "metadata": {
        "id": "U7hGXPU_hcQS"
      },
      "source": [
        "\n",
        "import pandas as pd\n",
        "import numpy as np\n",
        "import matplotlib.pyplot as plt\n",
        "from matplotlib.colors import ListedColormap\n",
        "import matplotlib.patches as mpatches\n",
        "import seaborn as sb\n",
        " \n",
        "%matplotlib inline\n",
        "plt.rcParams['figure.figsize'] = (16, 9)\n",
        "plt.style.use('ggplot')\n",
        "\n",
        "from sklearn.neighbors import KNeighborsClassifier\n",
        "from sklearn.neighbors import DistanceMetric\n",
        "\n",
        "from sklearn.preprocessing import minmax_scale\n",
        "from sklearn.preprocessing import StandardScaler\n",
        "from sklearn.model_selection import train_test_split\n",
        "\n",
        "from sklearn.metrics import classification_report\n",
        "from sklearn.metrics import confusion_matrix"
      ],
      "execution_count": null,
      "outputs": []
    },
    {
      "cell_type": "markdown",
      "metadata": {
        "id": "4I2qfo4yI6Pz"
      },
      "source": [
        "Ver la documentación en :\n",
        "\n",
        "https://scikit-learn.org/stable/modules/classes.html#module-sklearn.neighbors\n",
        "\n",
        "https://scikit-learn.org/stable/modules/generated/sklearn.neighbors.KNeighborsClassifier.html#sklearn.neighbors.KNeighborsClassifier\n",
        "\n",
        "https://scikit-learn.org/stable/modules/generated/sklearn.neighbors.KNeighborsRegressor.html\n",
        "\n",
        "https://scikit-learn.org/stable/modules/generated/sklearn.neighbors.DistanceMetric.html#sklearn.neighbors.DistanceMetric"
      ]
    },
    {
      "cell_type": "code",
      "metadata": {
        "id": "bqqHTxGkhmc_",
        "colab": {
          "base_uri": "https://localhost:8080/",
          "height": 348
        },
        "outputId": "34338f06-a61f-4063-e2cc-54fcdbfbbfe2"
      },
      "source": [
        "dataframe = pd.read_csv(r\"reviews_sentiment.csv\",sep=';')\n",
        "dataframe.head(10)"
      ],
      "execution_count": null,
      "outputs": [
        {
          "output_type": "execute_result",
          "data": {
            "text/html": [
              "<div>\n",
              "<style scoped>\n",
              "    .dataframe tbody tr th:only-of-type {\n",
              "        vertical-align: middle;\n",
              "    }\n",
              "\n",
              "    .dataframe tbody tr th {\n",
              "        vertical-align: top;\n",
              "    }\n",
              "\n",
              "    .dataframe thead th {\n",
              "        text-align: right;\n",
              "    }\n",
              "</style>\n",
              "<table border=\"1\" class=\"dataframe\">\n",
              "  <thead>\n",
              "    <tr style=\"text-align: right;\">\n",
              "      <th></th>\n",
              "      <th>Review Title</th>\n",
              "      <th>Review Text</th>\n",
              "      <th>wordcount</th>\n",
              "      <th>titleSentiment</th>\n",
              "      <th>textSentiment</th>\n",
              "      <th>Star Rating</th>\n",
              "      <th>sentimentValue</th>\n",
              "    </tr>\n",
              "  </thead>\n",
              "  <tbody>\n",
              "    <tr>\n",
              "      <th>0</th>\n",
              "      <td>Sin conexión</td>\n",
              "      <td>Hola desde hace algo más de un mes me pone sin...</td>\n",
              "      <td>23</td>\n",
              "      <td>negative</td>\n",
              "      <td>negative</td>\n",
              "      <td>1</td>\n",
              "      <td>-0.486389</td>\n",
              "    </tr>\n",
              "    <tr>\n",
              "      <th>1</th>\n",
              "      <td>faltan cosas</td>\n",
              "      <td>Han mejorado la apariencia pero no</td>\n",
              "      <td>20</td>\n",
              "      <td>negative</td>\n",
              "      <td>negative</td>\n",
              "      <td>1</td>\n",
              "      <td>-0.586187</td>\n",
              "    </tr>\n",
              "    <tr>\n",
              "      <th>2</th>\n",
              "      <td>Es muy buena lo recomiendo</td>\n",
              "      <td>Andres e puto amoooo</td>\n",
              "      <td>4</td>\n",
              "      <td>NaN</td>\n",
              "      <td>negative</td>\n",
              "      <td>1</td>\n",
              "      <td>-0.602240</td>\n",
              "    </tr>\n",
              "    <tr>\n",
              "      <th>3</th>\n",
              "      <td>Version antigua</td>\n",
              "      <td>Me gustana mas la version anterior esta es mas...</td>\n",
              "      <td>17</td>\n",
              "      <td>NaN</td>\n",
              "      <td>negative</td>\n",
              "      <td>1</td>\n",
              "      <td>-0.616271</td>\n",
              "    </tr>\n",
              "    <tr>\n",
              "      <th>4</th>\n",
              "      <td>Esta bien</td>\n",
              "      <td>Sin ser la biblia.... Esta bien</td>\n",
              "      <td>6</td>\n",
              "      <td>negative</td>\n",
              "      <td>negative</td>\n",
              "      <td>1</td>\n",
              "      <td>-0.651784</td>\n",
              "    </tr>\n",
              "    <tr>\n",
              "      <th>5</th>\n",
              "      <td>Buena</td>\n",
              "      <td>Nada del otro mundo pero han mejorado mucho</td>\n",
              "      <td>8</td>\n",
              "      <td>positive</td>\n",
              "      <td>negative</td>\n",
              "      <td>1</td>\n",
              "      <td>-0.720443</td>\n",
              "    </tr>\n",
              "    <tr>\n",
              "      <th>6</th>\n",
              "      <td>De gran ayuda</td>\n",
              "      <td>Lo malo q necesita de …,pero la app es muy buena</td>\n",
              "      <td>23</td>\n",
              "      <td>positive</td>\n",
              "      <td>negative</td>\n",
              "      <td>1</td>\n",
              "      <td>-0.726825</td>\n",
              "    </tr>\n",
              "    <tr>\n",
              "      <th>7</th>\n",
              "      <td>Muy buena</td>\n",
              "      <td>Estaba más acostumbrado al otro diseño, pero e...</td>\n",
              "      <td>16</td>\n",
              "      <td>positive</td>\n",
              "      <td>negative</td>\n",
              "      <td>1</td>\n",
              "      <td>-0.736769</td>\n",
              "    </tr>\n",
              "    <tr>\n",
              "      <th>8</th>\n",
              "      <td>Ta to guapa.</td>\n",
              "      <td>Va de escándalo</td>\n",
              "      <td>21</td>\n",
              "      <td>positive</td>\n",
              "      <td>negative</td>\n",
              "      <td>1</td>\n",
              "      <td>-0.765284</td>\n",
              "    </tr>\n",
              "    <tr>\n",
              "      <th>9</th>\n",
              "      <td>Se han corregido</td>\n",
              "      <td>Han corregido muchos fallos pero el diseño es ...</td>\n",
              "      <td>13</td>\n",
              "      <td>negative</td>\n",
              "      <td>negative</td>\n",
              "      <td>1</td>\n",
              "      <td>-0.797961</td>\n",
              "    </tr>\n",
              "  </tbody>\n",
              "</table>\n",
              "</div>"
            ],
            "text/plain": [
              "                 Review Title  ... sentimentValue\n",
              "0                Sin conexión  ...      -0.486389\n",
              "1                faltan cosas  ...      -0.586187\n",
              "2  Es muy buena lo recomiendo  ...      -0.602240\n",
              "3             Version antigua  ...      -0.616271\n",
              "4                   Esta bien  ...      -0.651784\n",
              "5                       Buena  ...      -0.720443\n",
              "6               De gran ayuda  ...      -0.726825\n",
              "7                   Muy buena  ...      -0.736769\n",
              "8                Ta to guapa.  ...      -0.765284\n",
              "9            Se han corregido  ...      -0.797961\n",
              "\n",
              "[10 rows x 7 columns]"
            ]
          },
          "metadata": {
            "tags": []
          },
          "execution_count": 64
        }
      ]
    },
    {
      "cell_type": "code",
      "metadata": {
        "id": "54w8bMs-8Kgw",
        "colab": {
          "base_uri": "https://localhost:8080/",
          "height": 288
        },
        "outputId": "b8857bcb-60d5-4078-b7bf-3ecc920ab6b3"
      },
      "source": [
        "dataframe.describe()"
      ],
      "execution_count": null,
      "outputs": [
        {
          "output_type": "execute_result",
          "data": {
            "text/html": [
              "<div>\n",
              "<style scoped>\n",
              "    .dataframe tbody tr th:only-of-type {\n",
              "        vertical-align: middle;\n",
              "    }\n",
              "\n",
              "    .dataframe tbody tr th {\n",
              "        vertical-align: top;\n",
              "    }\n",
              "\n",
              "    .dataframe thead th {\n",
              "        text-align: right;\n",
              "    }\n",
              "</style>\n",
              "<table border=\"1\" class=\"dataframe\">\n",
              "  <thead>\n",
              "    <tr style=\"text-align: right;\">\n",
              "      <th></th>\n",
              "      <th>wordcount</th>\n",
              "      <th>Star Rating</th>\n",
              "      <th>sentimentValue</th>\n",
              "    </tr>\n",
              "  </thead>\n",
              "  <tbody>\n",
              "    <tr>\n",
              "      <th>count</th>\n",
              "      <td>257.000000</td>\n",
              "      <td>257.000000</td>\n",
              "      <td>257.000000</td>\n",
              "    </tr>\n",
              "    <tr>\n",
              "      <th>mean</th>\n",
              "      <td>11.501946</td>\n",
              "      <td>3.420233</td>\n",
              "      <td>0.383849</td>\n",
              "    </tr>\n",
              "    <tr>\n",
              "      <th>std</th>\n",
              "      <td>13.159812</td>\n",
              "      <td>1.409531</td>\n",
              "      <td>0.897987</td>\n",
              "    </tr>\n",
              "    <tr>\n",
              "      <th>min</th>\n",
              "      <td>1.000000</td>\n",
              "      <td>1.000000</td>\n",
              "      <td>-2.276469</td>\n",
              "    </tr>\n",
              "    <tr>\n",
              "      <th>25%</th>\n",
              "      <td>3.000000</td>\n",
              "      <td>3.000000</td>\n",
              "      <td>-0.108144</td>\n",
              "    </tr>\n",
              "    <tr>\n",
              "      <th>50%</th>\n",
              "      <td>7.000000</td>\n",
              "      <td>3.000000</td>\n",
              "      <td>0.264091</td>\n",
              "    </tr>\n",
              "    <tr>\n",
              "      <th>75%</th>\n",
              "      <td>16.000000</td>\n",
              "      <td>5.000000</td>\n",
              "      <td>0.808384</td>\n",
              "    </tr>\n",
              "    <tr>\n",
              "      <th>max</th>\n",
              "      <td>103.000000</td>\n",
              "      <td>5.000000</td>\n",
              "      <td>3.264579</td>\n",
              "    </tr>\n",
              "  </tbody>\n",
              "</table>\n",
              "</div>"
            ],
            "text/plain": [
              "        wordcount  Star Rating  sentimentValue\n",
              "count  257.000000   257.000000      257.000000\n",
              "mean    11.501946     3.420233        0.383849\n",
              "std     13.159812     1.409531        0.897987\n",
              "min      1.000000     1.000000       -2.276469\n",
              "25%      3.000000     3.000000       -0.108144\n",
              "50%      7.000000     3.000000        0.264091\n",
              "75%     16.000000     5.000000        0.808384\n",
              "max    103.000000     5.000000        3.264579"
            ]
          },
          "metadata": {
            "tags": []
          },
          "execution_count": 65
        }
      ]
    },
    {
      "cell_type": "code",
      "metadata": {
        "id": "WFpdxia79TJj",
        "colab": {
          "base_uri": "https://localhost:8080/",
          "height": 554
        },
        "outputId": "39f48363-a18e-4244-fe04-6a4adb0654be"
      },
      "source": [
        "dataframe.hist()\n",
        "plt.show()"
      ],
      "execution_count": null,
      "outputs": [
        {
          "output_type": "display_data",
          "data": {
            "image/png": "[encoded data removed]",
            "text/plain": [
              "<Figure size 1152x648 with 4 Axes>"
            ]
          },
          "metadata": {
            "tags": []
          }
        }
      ]
    },
    {
      "cell_type": "code",
      "metadata": {
        "id": "W2ES2opK_fKq",
        "colab": {
          "base_uri": "https://localhost:8080/",
          "height": 562
        },
        "outputId": "d19f86e4-00af-4332-bdd9-3ba93d5b7755"
      },
      "source": [
        "print(dataframe.groupby('Star Rating').size())\n",
        "sb.factorplot('Star Rating',data=dataframe,kind=\"count\", aspect=1)"
      ],
      "execution_count": null,
      "outputs": [
        {
          "output_type": "stream",
          "text": [
            "Star Rating\n",
            "1    37\n",
            "2    24\n",
            "3    78\n",
            "4    30\n",
            "5    88\n",
            "dtype: int64\n"
          ],
          "name": "stdout"
        },
        {
          "output_type": "stream",
          "text": [
            "/usr/local/lib/python3.6/dist-packages/seaborn/categorical.py:3666: UserWarning: The `factorplot` function has been renamed to `catplot`. The original name will be removed in a future release. Please update your code. Note that the default `kind` in `factorplot` (`'point'`) has changed `'strip'` in `catplot`.\n",
            "  warnings.warn(msg)\n"
          ],
          "name": "stderr"
        },
        {
          "output_type": "execute_result",
          "data": {
            "text/plain": [
              "<seaborn.axisgrid.FacetGrid at 0x7f109951f160>"
            ]
          },
          "metadata": {
            "tags": []
          },
          "execution_count": 67
        },
        {
          "output_type": "display_data",
          "data": {
            "image/png": "[encoded data removed]",
            "text/plain": [
              "<Figure size 360x360 with 1 Axes>"
            ]
          },
          "metadata": {
            "tags": []
          }
        }
      ]
    },
    {
      "cell_type": "code",
      "metadata": {
        "id": "iOzjNH9-Af5Z",
        "colab": {
          "base_uri": "https://localhost:8080/",
          "height": 441
        },
        "outputId": "a6b15c71-67cf-4bda-a6dc-81e24f3e8f51"
      },
      "source": [
        "sb.factorplot('wordcount',data=dataframe,kind=\"count\", aspect=3)"
      ],
      "execution_count": null,
      "outputs": [
        {
          "output_type": "stream",
          "text": [
            "/usr/local/lib/python3.6/dist-packages/seaborn/categorical.py:3666: UserWarning: The `factorplot` function has been renamed to `catplot`. The original name will be removed in a future release. Please update your code. Note that the default `kind` in `factorplot` (`'point'`) has changed `'strip'` in `catplot`.\n",
            "  warnings.warn(msg)\n"
          ],
          "name": "stderr"
        },
        {
          "output_type": "execute_result",
          "data": {
            "text/plain": [
              "<seaborn.axisgrid.FacetGrid at 0x7f10994f2518>"
            ]
          },
          "metadata": {
            "tags": []
          },
          "execution_count": 68
        },
        {
          "output_type": "display_data",
          "data": {
            "image/png": "[encoded data removed]",
            "text/plain": [
              "<Figure size 1080x360 with 1 Axes>"
            ]
          },
          "metadata": {
            "tags": []
          }
        }
      ]
    },
    {
      "cell_type": "code",
      "metadata": {
        "id": "a1WV1Z0FA6pX",
        "colab": {
          "base_uri": "https://localhost:8080/",
          "height": 53
        },
        "outputId": "d9d87758-06da-4306-b3e8-96592b1b6847"
      },
      "source": [
        "X = dataframe[['wordcount','sentimentValue']].values\n",
        "y = dataframe['Star Rating'].values\n",
        "\n",
        "X_train, X_test, y_train, y_test = train_test_split(X, y, random_state=0)\n",
        "\n",
        "scaler = StandardScaler()# Ejercicio, no use la escalización de los datos a ver que tal funciona!\n",
        "scaler.fit(X_train)# el fit de los datos solo se hace con el conjunto de entrenamiento!\n",
        "X_train = scaler.transform(X_train)\n",
        "X_test = scaler.transform(X_test)\n",
        "\n",
        "\"\"\"\n",
        "scaler = MinMaxScaler()# Ejercicio, no use la escalización de los datos a ver que tal funciona!\n",
        "scaler.fit(X_train)# el fit de los datos solo se hace con el conjunto de entrenamiento!\n",
        "X_train = scaler.transform(X_train)\n",
        "X_test = scaler.transform(X_test)\n",
        "\"\"\""
      ],
      "execution_count": null,
      "outputs": [
        {
          "output_type": "execute_result",
          "data": {
            "application/vnd.google.colaboratory.intrinsic+json": {
              "type": "string"
            },
            "text/plain": [
              "'\\nscaler = MinMaxScaler()# Ejercicio, no use la escalización de los datos a ver que tal funciona!\\nscaler.fit(X_train)# el fit de los datos solo se hace con el conjunto de entrenamiento!\\nX_train = scaler.transform(X_train)\\nX_test = scaler.transform(X_test)\\n'"
            ]
          },
          "metadata": {
            "tags": []
          },
          "execution_count": 81
        }
      ]
    },
    {
      "cell_type": "code",
      "metadata": {
        "id": "oFiXRlaABG5D",
        "colab": {
          "base_uri": "https://localhost:8080/",
          "height": 52
        },
        "outputId": "6ad78b1a-642a-49a5-d8aa-00502edfe097"
      },
      "source": [
        "n_neighbors = 17\n",
        "# ver https://scikit-learn.org/stable/modules/generated/sklearn.neighbors.DistanceMetric.html#sklearn.neighbors.DistanceMetric\n",
        "#por ejemplo euclidean. manhattan. chebyshev. minkowski. wminkowski. seuclidean. mahalanobis. hamming\n",
        "#import sklearn\n",
        "#sorted(sklearn.neighbors.VALID_METRICS['brute'])\n",
        "distance='minkowski'\n",
        "knn = KNeighborsClassifier(n_neighbors,weights='uniform',metric=distance, metric_params=None,algorithm='brute')\n",
        "knn.fit(X_train, y_train)\n",
        "print('Accuracy of K-NN classifier on training set: {:.2f}'\n",
        "     .format(knn.score(X_train, y_train)))\n",
        "print('Accuracy of K-NN classifier on test set: {:.2f}'\n",
        "     .format(knn.score(X_test, y_test)))"
      ],
      "execution_count": null,
      "outputs": [
        {
          "output_type": "stream",
          "text": [
            "Accuracy of K-NN classifier on training set: 0.85\n",
            "Accuracy of K-NN classifier on test set: 0.85\n"
          ],
          "name": "stdout"
        }
      ]
    },
    {
      "cell_type": "code",
      "metadata": {
        "id": "7hcqHWWKBQ0H",
        "colab": {
          "base_uri": "https://localhost:8080/",
          "height": 311
        },
        "outputId": "eb57bf83-a9ec-414b-c976-fb5f819fd6f0"
      },
      "source": [
        "pred = knn.predict(X_test)\n",
        "print(confusion_matrix(y_test, pred))\n",
        "print(classification_report(y_test, pred))"
      ],
      "execution_count": null,
      "outputs": [
        {
          "output_type": "stream",
          "text": [
            "[[ 8  0  2  0  0]\n",
            " [ 0  1  0  0  0]\n",
            " [ 0  0 18  0  1]\n",
            " [ 0  0  3  7  0]\n",
            " [ 0  0  4  0 21]]\n",
            "              precision    recall  f1-score   support\n",
            "\n",
            "           1       1.00      0.80      0.89        10\n",
            "           2       1.00      1.00      1.00         1\n",
            "           3       0.67      0.95      0.78        19\n",
            "           4       1.00      0.70      0.82        10\n",
            "           5       0.95      0.84      0.89        25\n",
            "\n",
            "    accuracy                           0.85        65\n",
            "   macro avg       0.92      0.86      0.88        65\n",
            "weighted avg       0.89      0.85      0.85        65\n",
            "\n"
          ],
          "name": "stdout"
        }
      ]
    },
    {
      "cell_type": "code",
      "metadata": {
        "id": "VFAjcxV7Eh6A",
        "colab": {
          "base_uri": "https://localhost:8080/",
          "height": 554
        },
        "outputId": "b5cadc64-184c-484e-e67c-6574e114f150"
      },
      "source": [
        "h = .02  # step size in the mesh\n",
        " \n",
        "# Create color maps\n",
        "cmap_light = ListedColormap(['#FFAAAA', '#ffcc99', '#ffffb3','#b3ffff','#c2f0c2'])\n",
        "cmap_bold = ListedColormap(['#FF0000', '#ff9933','#FFFF00','#00ffff','#00FF00'])\n",
        " \n",
        "# we create an instance of Neighbours Classifier and fit the data.\n",
        "clf = KNeighborsClassifier(n_neighbors,weights='distance',metric=distance, metric_params=None,algorithm='brute')\n",
        "clf.fit(X, y)\n",
        " \n",
        "# Plot the decision boundary. For that, we will assign a color to each\n",
        "# point in the mesh [x_min, x_max]x[y_min, y_max].\n",
        "x_min, x_max = X[:, 0].min() - 1, X[:, 0].max() + 1\n",
        "y_min, y_max = X[:, 1].min() - 1, X[:, 1].max() + 1\n",
        "xx, yy = np.meshgrid(np.arange(x_min, x_max, h),\n",
        "                         np.arange(y_min, y_max, h))\n",
        "Z = clf.predict(np.c_[xx.ravel(), yy.ravel()])\n",
        " \n",
        "# Put the result into a color plot\n",
        "Z = Z.reshape(xx.shape)\n",
        "plt.figure()\n",
        "plt.pcolormesh(xx, yy, Z, cmap=cmap_light)\n",
        " \n",
        "# Plot also the training points\n",
        "plt.scatter(X[:, 0], X[:, 1], c=y, cmap=cmap_bold,\n",
        "                edgecolor='k', s=20)\n",
        "plt.xlim(xx.min(), xx.max())\n",
        "plt.ylim(yy.min(), yy.max())\n",
        "    \n",
        "patch0 = mpatches.Patch(color='#FF0000', label='1')\n",
        "patch1 = mpatches.Patch(color='#ff9933', label='2')\n",
        "patch2 = mpatches.Patch(color='#FFFF00', label='3')\n",
        "patch3 = mpatches.Patch(color='#00ffff', label='4')\n",
        "patch4 = mpatches.Patch(color='#00FF00', label='5')\n",
        "plt.legend(handles=[patch0, patch1, patch2, patch3,patch4])\n",
        " \n",
        "    \n",
        "plt.title(\"5-Class classification (k = %i, distance = '%s')\"% (n_neighbors, distance))\n",
        " \n",
        "plt.show()"
      ],
      "execution_count": null,
      "outputs": [
        {
          "output_type": "display_data",
          "data": {
            "image/png": "[encoded data removed]",
            "text/plain": [
              "<Figure size 1152x648 with 1 Axes>"
            ]
          },
          "metadata": {
            "tags": []
          }
        }
      ]
    },
    {
      "cell_type": "code",
      "metadata": {
        "id": "V5SnXLRTFbWr",
        "colab": {
          "base_uri": "https://localhost:8080/",
          "height": 657
        },
        "outputId": "bc1dcbf3-92d4-481f-f4f4-8132985bc215"
      },
      "source": [
        "#obteniendo el mejor valor de K a partir del conjunto de validación con mejor accuracy\n",
        "k_range = range(1, 20)\n",
        "scores = []\n",
        "for k in k_range:\n",
        "    knn = KNeighborsClassifier(n_neighbors = k,weights='distance',metric=distance, metric_params=None,algorithm='brute')\n",
        "    #knn = KNeighborsClassifier(n_neighbors = k)\n",
        "    knn.fit(X_train, y_train)\n",
        "    scores.append(knn.score(X_test, y_test))\n",
        "plt.figure()\n",
        "plt.xlabel('k')\n",
        "plt.ylabel('accuracy')\n",
        "plt.scatter(k_range, scores)\n",
        "plt.xticks([0,5,10,15,20])"
      ],
      "execution_count": null,
      "outputs": [
        {
          "output_type": "execute_result",
          "data": {
            "text/plain": [
              "([<matplotlib.axis.XTick at 0x7f1094bd0cc0>,\n",
              "  <matplotlib.axis.XTick at 0x7f1094c31b38>,\n",
              "  <matplotlib.axis.XTick at 0x7f1094b8e668>,\n",
              "  <matplotlib.axis.XTick at 0x7f109da4d1d0>,\n",
              "  <matplotlib.axis.XTick at 0x7f109da4d668>],\n",
              " <a list of 5 Text major ticklabel objects>)"
            ]
          },
          "metadata": {
            "tags": []
          },
          "execution_count": 85
        },
        {
          "output_type": "display_data",
          "data": {
            "image/png": "[encoded data removed]",
            "text/plain": [
              "<Figure size 1152x648 with 1 Axes>"
            ]
          },
          "metadata": {
            "tags": []
          }
        }
      ]
    },
    {
      "cell_type": "code",
      "metadata": {
        "id": "Cj_RP-R1G8jC",
        "colab": {
          "base_uri": "https://localhost:8080/",
          "height": 52
        },
        "outputId": "a24eacb7-4299-42bb-af9c-de5642ae0347"
      },
      "source": [
        "print(clf.predict([[20, 0.0]]))\n",
        "print(clf.predict_proba([[20, 0.0]]))#probar con K=1 y otros K mayores!!"
      ],
      "execution_count": null,
      "outputs": [
        {
          "output_type": "stream",
          "text": [
            "[3]\n",
            "[[0.00563336 0.02568264 0.96308408 0.00559992 0.        ]]\n"
          ],
          "name": "stdout"
        }
      ]
    },
    {
      "cell_type": "code",
      "metadata": {
        "id": "uyvWqIhWHZuG"
      },
      "source": [
        ""
      ],
      "execution_count": null,
      "outputs": []
    }
  ]
}